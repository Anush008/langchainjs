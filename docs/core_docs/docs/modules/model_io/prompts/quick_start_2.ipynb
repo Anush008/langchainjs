{
 "cells": [
  {
   "cell_type": "markdown",
   "metadata": {},
   "source": [
    "---\n",
    "sidebar_position: 0\n",
    "sidebar_class_name: hidden\n",
    "---\n",
    "\n",
    "# Quick Start\n",
    "\n",
    "Language models take text as input - that text is commonly referred to as a prompt.\n",
    "Typically this is not simply a hardcoded string but rather a combination of a template, some examples, and user input.\n",
    "LangChain provides several classes and functions to make constructing and working with prompts easy.\n",
    "\n",
    "## What is a prompt template?\n",
    "\n",
    "A prompt template refers to a reproducible way to generate a prompt. It contains a text string (\"the template\"), that can take in a set of parameters from the end user and generates a prompt.\n",
    "\n",
    "A prompt template can contain:\n",
    "\n",
    "- instructions to the language model,\n",
    "- a set of few shot examples to help the language model generate a better response,\n",
    "- a question to the language model.\n",
    "\n",
    "Here's a simple example:\n",
    "\n",
    "```{=mdx}\n",
    "import Tabs from \"@theme/Tabs\";\n",
    "import TabItem from \"@theme/TabItem\";\n",
    "\n",
    "<Tabs>\n",
    "  <TabItem value=\"fstring\" label=\"F-String\" default>\n",
    "```"
   ]
  },
  {
   "cell_type": "code",
   "execution_count": 1,
   "metadata": {},
   "outputs": [
    {
     "data": {
      "text/plain": [
       "\u001b[32m\"You are a naming consultant for new companies.\\n\"\u001b[39m +\n",
       "  \u001b[32m\"What is a good name for a company that makes colorful\"\u001b[39m... 7 more characters"
      ]
     },
     "execution_count": 1,
     "metadata": {},
     "output_type": "execute_result"
    }
   ],
   "source": [
    "import { PromptTemplate } from \"@langchain/core/prompts\";\n",
    "\n",
    "// If a template is passed in, the input variables are inferred automatically from the template.\n",
    "const prompt = PromptTemplate.fromTemplate(\n",
    "  `You are a naming consultant for new companies.\n",
    "What is a good name for a company that makes {product}?`\n",
    ");\n",
    "\n",
    "const formattedPrompt = await prompt.format({\n",
    "  product: \"colorful socks\",\n",
    "});\n",
    "console.log(formattedPrompt)"
   ]
  },
  {
   "cell_type": "markdown",
   "metadata": {},
   "source": [
    "```{=mdx}\n",
    "  </TabItem>\n",
    "  <TabItem value=\"mustache\" label=\"Mustache\">\n",
    "```"
   ]
  },
  {
   "cell_type": "code",
   "execution_count": 2,
   "metadata": {},
   "outputs": [
    {
     "ename": "TypeError",
     "evalue": "DEFAULT_PARSER_MAPPING[templateFormat] is not a function",
     "output_type": "error",
     "traceback": [
      "Stack trace:",
      "TypeError: DEFAULT_PARSER_MAPPING[templateFormat] is not a function",
      "    at parseTemplate (file:///Users/bracesproul/Library/Caches/deno/npm/registry.npmjs.org/@langchain/core/0.1.56/dist/prompts/template.js:65:98)",
      "    at Function.fromTemplate (file:///Users/bracesproul/Library/Caches/deno/npm/registry.npmjs.org/@langchain/core/0.1.56/dist/prompts/prompt.js:90:9)",
      "    at <anonymous>:3:31"
     ]
    }
   ],
   "source": [
    "import { PromptTemplate } from \"@langchain/core/prompts\";\n",
    "\n",
    "// If a template is passed in, the input variables are inferred automatically from the template.\n",
    "const prompt = PromptTemplate.fromTemplate(\n",
    "  `You are a naming consultant for new companies.\n",
    "What is a good name for a company that makes {{product}}?`, {\n",
    "  templateFormat: \"mustache\",\n",
    "}\n",
    ");\n",
    "\n",
    "const formattedPrompt = await prompt.format({\n",
    "  product: \"colorful socks\",\n",
    "});\n",
    "console.log(formattedPrompt)"
   ]
  },
  {
   "cell_type": "markdown",
   "metadata": {},
   "source": [
    "```{=mdx}\n",
    "  </TabItem>\n",
    "</Tabs>\n",
    "```\n",
    "\n",
    "## Create a prompt template\n",
    "\n",
    "You can create simple hardcoded prompts using the `PromptTemplate` class. Prompt templates can take any number of input variables, and can be formatted to generate a prompt.\n",
    "\n",
    "```{=mdx}\n",
    "<Tabs>\n",
    "  <TabItem value=\"fstring\" label=\"F-String\" default>\n",
    "```"
   ]
  },
  {
   "cell_type": "code",
   "execution_count": 3,
   "metadata": {},
   "outputs": [
    {
     "name": "stdout",
     "output_type": "stream",
     "text": [
      "Tell me a joke.\n",
      "Tell me a funny joke.\n",
      "Tell me a funny joke about chickens.\n"
     ]
    }
   ],
   "source": [
    "import { PromptTemplate } from \"@langchain/core/prompts\";\n",
    "\n",
    "// An example prompt with no input variables\n",
    "const noInputPrompt = new PromptTemplate({\n",
    "  inputVariables: [],\n",
    "  template: \"Tell me a joke.\",\n",
    "});\n",
    "const formattedNoInputPrompt = await noInputPrompt.format({});\n",
    "\n",
    "console.log(formattedNoInputPrompt);\n",
    "\n",
    "// An example prompt with one input variable\n",
    "const oneInputPrompt = new PromptTemplate({\n",
    "  inputVariables: [\"adjective\"],\n",
    "  template: \"Tell me a {adjective} joke.\",\n",
    "});\n",
    "const formattedOneInputPrompt = await oneInputPrompt.format({\n",
    "  adjective: \"funny\",\n",
    "});\n",
    "\n",
    "console.log(formattedOneInputPrompt);\n",
    "\n",
    "// An example prompt with multiple input variables\n",
    "const multipleInputPrompt = new PromptTemplate({\n",
    "  inputVariables: [\"adjective\", \"content\"],\n",
    "  template: \"Tell me a {adjective} joke about {content}.\",\n",
    "});\n",
    "const formattedMultipleInputPrompt = await multipleInputPrompt.format({\n",
    "  adjective: \"funny\",\n",
    "  content: \"chickens\",\n",
    "});\n",
    "\n",
    "console.log(formattedMultipleInputPrompt);"
   ]
  },
  {
   "cell_type": "markdown",
   "metadata": {},
   "source": [
    "```{=mdx}\n",
    "  </TabItem>\n",
    "  <TabItem value=\"mustache\" label=\"Mustache\">\n",
    "```"
   ]
  },
  {
   "cell_type": "code",
   "execution_count": 4,
   "metadata": {},
   "outputs": [
    {
     "name": "stdout",
     "output_type": "stream",
     "text": [
      "Tell me a joke.\n"
     ]
    },
    {
     "ename": "Error",
     "evalue": "Invalid template format. Got `mustache`;\n                         should be one of f-string",
     "output_type": "error",
     "traceback": [
      "Stack trace:",
      "Error: Invalid template format. Got `mustache`;",
      "                         should be one of f-string",
      "    at checkValidTemplate (file:///Users/bracesproul/Library/Caches/deno/npm/registry.npmjs.org/@langchain/core/0.1.56/dist/prompts/template.js:69:15)",
      "    at new PromptTemplate (file:///Users/bracesproul/Library/Caches/deno/npm/registry.npmjs.org/@langchain/core/0.1.56/dist/prompts/prompt.js:50:13)",
      "    at <anonymous>:11:24"
     ]
    }
   ],
   "source": [
    "import { PromptTemplate } from \"@langchain/core/prompts\";\n",
    "\n",
    "// An example prompt with no input variables\n",
    "const noInputPrompt = new PromptTemplate({\n",
    "  inputVariables: [],\n",
    "  template: \"Tell me a joke.\",\n",
    "});\n",
    "const formattedNoInputPrompt = await noInputPrompt.format({});\n",
    "\n",
    "console.log(formattedNoInputPrompt);\n",
    "\n",
    "// An example prompt with one input variable\n",
    "const oneInputPrompt = new PromptTemplate({\n",
    "  inputVariables: [\"adjective\"],\n",
    "  template: \"Tell me a {{adjective}} joke.\",\n",
    "  templateFormat: \"mustache\",\n",
    "});\n",
    "const formattedOneInputPrompt = await oneInputPrompt.format({\n",
    "  adjective: \"funny\",\n",
    "});\n",
    "\n",
    "console.log(formattedOneInputPrompt);\n",
    "\n",
    "// An example prompt with multiple input variables\n",
    "const multipleInputPrompt = new PromptTemplate({\n",
    "  inputVariables: [\"adjective\", \"content\"],\n",
    "  template: \"Tell me a {{adjective}} joke about {{content}}.\",\n",
    "  templateFormat: \"mustache\",\n",
    "});\n",
    "const formattedMultipleInputPrompt = await multipleInputPrompt.format({\n",
    "  adjective: \"funny\",\n",
    "  content: \"chickens\",\n",
    "});\n",
    "\n",
    "console.log(formattedMultipleInputPrompt);"
   ]
  },
  {
   "cell_type": "markdown",
   "metadata": {},
   "source": [
    "```{=mdx}\n",
    "  </TabItem>\n",
    "</Tabs>\n",
    "```\n",
    "\n",
    "If you do not wish to specify `inputVariables` manually, you can also create a `PromptTemplate` using the `fromTemplate` class method. LangChain will automatically infer the `inputVariables` based on the `template` passed.\n",
    "\n",
    "```{=mdx}\n",
    "<Tabs>\n",
    "  <TabItem value=\"fstring\" label=\"F-String\" default>\n",
    "```"
   ]
  },
  {
   "cell_type": "code",
   "execution_count": 5,
   "metadata": {},
   "outputs": [
    {
     "name": "stdout",
     "output_type": "stream",
     "text": [
      "[ \"adjective\", \"content\" ]\n",
      "Tell me a funny joke about chickens.\n"
     ]
    }
   ],
   "source": [
    "import { PromptTemplate } from \"@langchain/core/prompts\";\n",
    "\n",
    "const template = \"Tell me a {adjective} joke about {content}.\";\n",
    "\n",
    "const promptTemplate = PromptTemplate.fromTemplate(template);\n",
    "console.log(promptTemplate.inputVariables);\n",
    "\n",
    "const formattedPromptTemplate = await promptTemplate.format({\n",
    "  adjective: \"funny\",\n",
    "  content: \"chickens\",\n",
    "});\n",
    "console.log(formattedPromptTemplate);"
   ]
  },
  {
   "cell_type": "markdown",
   "metadata": {},
   "source": [
    "```{=mdx}\n",
    "  </TabItem>\n",
    "  <TabItem value=\"mustache\" label=\"Mustache\">\n",
    "```"
   ]
  },
  {
   "cell_type": "code",
   "execution_count": 6,
   "metadata": {},
   "outputs": [
    {
     "ename": "TypeError",
     "evalue": "DEFAULT_PARSER_MAPPING[templateFormat] is not a function",
     "output_type": "error",
     "traceback": [
      "Stack trace:",
      "TypeError: DEFAULT_PARSER_MAPPING[templateFormat] is not a function",
      "    at parseTemplate (file:///Users/bracesproul/Library/Caches/deno/npm/registry.npmjs.org/@langchain/core/0.1.56/dist/prompts/template.js:65:98)",
      "    at Function.fromTemplate (file:///Users/bracesproul/Library/Caches/deno/npm/registry.npmjs.org/@langchain/core/0.1.56/dist/prompts/prompt.js:90:9)",
      "    at <anonymous>:3:39"
     ]
    }
   ],
   "source": [
    "import { PromptTemplate } from \"@langchain/core/prompts\";\n",
    "\n",
    "const template = \"Tell me a {{adjective}} joke about {{content}}.\";\n",
    "\n",
    "const promptTemplate = PromptTemplate.fromTemplate(template, {\n",
    "  templateFormat: \"mustache\",\n",
    "});\n",
    "console.log(promptTemplate.inputVariables);\n",
    "\n",
    "const formattedPromptTemplate = await promptTemplate.format({\n",
    "  adjective: \"funny\",\n",
    "  content: \"chickens\",\n",
    "});\n",
    "console.log(formattedPromptTemplate);"
   ]
  },
  {
   "cell_type": "markdown",
   "metadata": {},
   "source": [
    "```{=mdx}\n",
    "  </TabItem>\n",
    "</Tabs>\n",
    "```\n",
    "\n",
    "You can create custom prompt templates that format the prompt in any way you want.\n",
    "\n",
    "## Chat prompt template\n",
    "\n",
    "[Chat Models](/docs/modules/model_io/chat) take a list of chat messages as input - this list is commonly referred to as a `prompt`.\n",
    "These chat messages differ from raw string (which you would pass into a [LLM](/docs/modules/model_io/llms)) in that every message is associated with a `role`.\n",
    "\n",
    "For example, in OpenAI [Chat Completion API](https://platform.openai.com/docs/guides/chat/introduction), a chat message can be associated with an AI, human or system role. The model is supposed to follow instruction from system chat message more closely.\n",
    "\n",
    "LangChain provides several prompt templates to make constructing and working with prompts easily. You are encouraged to use these chat related prompt templates instead of `PromptTemplate` when invoking chat models to fully explore the model's potential."
   ]
  },
  {
   "cell_type": "code",
   "execution_count": 7,
   "metadata": {},
   "outputs": [],
   "source": [
    "import {\n",
    "  ChatPromptTemplate,\n",
    "  PromptTemplate,\n",
    "  SystemMessagePromptTemplate,\n",
    "  AIMessagePromptTemplate,\n",
    "  HumanMessagePromptTemplate,\n",
    "} from \"@langchain/core/prompts\";\n",
    "import {\n",
    "  AIMessage,\n",
    "  HumanMessage,\n",
    "  SystemMessage,\n",
    "} from \"@langchain/core/messages\";"
   ]
  },
  {
   "cell_type": "markdown",
   "metadata": {},
   "source": [
    "To create a message template associated with a role, you would use the corresponding `<ROLE>MessagePromptTemplate`.\n",
    "\n",
    "For convenience, you can also declare message prompt templates as tuples. These will be coerced to the proper prompt template types:\n",
    "\n",
    "```{=mdx}\n",
    "<Tabs>\n",
    "  <TabItem value=\"fstring\" label=\"F-String\" default>\n",
    "```"
   ]
  },
  {
   "cell_type": "code",
   "execution_count": 8,
   "metadata": {},
   "outputs": [
    {
     "name": "stdout",
     "output_type": "stream",
     "text": [
      "[\n",
      "  SystemMessage {\n",
      "    lc_serializable: true,\n",
      "    lc_kwargs: {\n",
      "      content: \"You are a helpful assistant that translates English to French.\",\n",
      "      additional_kwargs: {},\n",
      "      response_metadata: {}\n",
      "    },\n",
      "    lc_namespace: [ \"langchain_core\", \"messages\" ],\n",
      "    content: \"You are a helpful assistant that translates English to French.\",\n",
      "    name: undefined,\n",
      "    additional_kwargs: {},\n",
      "    response_metadata: {}\n",
      "  },\n",
      "  HumanMessage {\n",
      "    lc_serializable: true,\n",
      "    lc_kwargs: {\n",
      "      content: \"I love programming.\",\n",
      "      additional_kwargs: {},\n",
      "      response_metadata: {}\n",
      "    },\n",
      "    lc_namespace: [ \"langchain_core\", \"messages\" ],\n",
      "    content: \"I love programming.\",\n",
      "    name: undefined,\n",
      "    additional_kwargs: {},\n",
      "    response_metadata: {}\n",
      "  }\n",
      "]\n"
     ]
    }
   ],
   "source": [
    "const systemTemplate =\n",
    "  \"You are a helpful assistant that translates {input_language} to {output_language}.\";\n",
    "const humanTemplate = \"{text}\";\n",
    "\n",
    "const chatPrompt = ChatPromptTemplate.fromMessages([\n",
    "  [\"system\", systemTemplate],\n",
    "  [\"human\", humanTemplate],\n",
    "]);\n",
    "\n",
    "// Format the messages\n",
    "const formattedChatPrompt = await chatPrompt.formatMessages({\n",
    "  input_language: \"English\",\n",
    "  output_language: \"French\",\n",
    "  text: \"I love programming.\",\n",
    "});\n",
    "\n",
    "console.log(formattedChatPrompt);"
   ]
  },
  {
   "cell_type": "markdown",
   "metadata": {},
   "source": [
    "```{=mdx}\n",
    "  </TabItem>\n",
    "  <TabItem value=\"mustache\" label=\"Mustache\">\n",
    "```"
   ]
  },
  {
   "cell_type": "code",
   "execution_count": 9,
   "metadata": {},
   "outputs": [
    {
     "name": "stdout",
     "output_type": "stream",
     "text": [
      "[\n",
      "  SystemMessage {\n",
      "    lc_serializable: true,\n",
      "    lc_kwargs: {\n",
      "      content: \"You are a helpful assistant that translates {input_language} to {output_language}.\",\n",
      "      additional_kwargs: {},\n",
      "      response_metadata: {}\n",
      "    },\n",
      "    lc_namespace: [ \"langchain_core\", \"messages\" ],\n",
      "    content: \"You are a helpful assistant that translates {input_language} to {output_language}.\",\n",
      "    name: undefined,\n",
      "    additional_kwargs: {},\n",
      "    response_metadata: {}\n",
      "  },\n",
      "  HumanMessage {\n",
      "    lc_serializable: true,\n",
      "    lc_kwargs: { content: \"{text}\", additional_kwargs: {}, response_metadata: {} },\n",
      "    lc_namespace: [ \"langchain_core\", \"messages\" ],\n",
      "    content: \"{text}\",\n",
      "    name: undefined,\n",
      "    additional_kwargs: {},\n",
      "    response_metadata: {}\n",
      "  }\n",
      "]\n"
     ]
    }
   ],
   "source": [
    "const systemTemplate =\n",
    "  \"You are a helpful assistant that translates {{input_language}} to {{output_language}}.\";\n",
    "const humanTemplate = \"{{text}}\";\n",
    "\n",
    "const chatPrompt = ChatPromptTemplate.fromMessages([\n",
    "  [\"system\", systemTemplate],\n",
    "  [\"human\", humanTemplate],\n",
    "], {\n",
    "  templateFormat: \"mustache\",\n",
    "});\n",
    "\n",
    "// Format the messages\n",
    "const formattedChatPrompt = await chatPrompt.formatMessages({\n",
    "  input_language: \"English\",\n",
    "  output_language: \"French\",\n",
    "  text: \"I love programming.\",\n",
    "});\n",
    "\n",
    "console.log(formattedChatPrompt);"
   ]
  },
  {
   "cell_type": "markdown",
   "metadata": {},
   "source": [
    "```{=mdx}\n",
    "  </TabItem>\n",
    "</Tabs>\n",
    "```"
   ]
  },
  {
   "cell_type": "markdown",
   "metadata": {},
   "source": [
    "You can also use `ChatPromptTemplate`'s `.formatPromptValue()` method -- this returns a `PromptValue`, which you can convert to a string or Message object,\n",
    "depending on whether you want to use the formatted value as input to an LLM or chat model.\n",
    "\n",
    "If you prefer to use the message classes, there is a `fromTemplate` method exposed on these classes.\n",
    "This is what it would look like:\n",
    "\n",
    "```{=mdx}\n",
    "<Tabs>\n",
    "  <TabItem value=\"fstring\" label=\"F-String\" default>\n",
    "```"
   ]
  },
  {
   "cell_type": "code",
   "execution_count": 10,
   "metadata": {},
   "outputs": [],
   "source": [
    "const template =\n",
    "  \"You are a helpful assistant that translates {input_language} to {output_language}.\";\n",
    "const systemMessagePrompt = SystemMessagePromptTemplate.fromTemplate(template);\n",
    "const humanTemplate = \"{text}\";\n",
    "const humanMessagePrompt =\n",
    "  HumanMessagePromptTemplate.fromTemplate(humanTemplate);"
   ]
  },
  {
   "cell_type": "markdown",
   "metadata": {},
   "source": [
    "If you wanted to construct the `MessagePromptTemplate` more directly, you could create a PromptTemplate externally and then pass it in, e.g.:"
   ]
  },
  {
   "cell_type": "code",
   "execution_count": 11,
   "metadata": {},
   "outputs": [],
   "source": [
    "const prompt = new PromptTemplate({\n",
    "  template:\n",
    "    \"You are a helpful assistant that translates {input_language} to {output_language}.\",\n",
    "  inputVariables: [\"input_language\", \"output_language\"],\n",
    "});\n",
    "const systemMessagePrompt2 = new SystemMessagePromptTemplate({\n",
    "  prompt,\n",
    "});"
   ]
  },
  {
   "cell_type": "markdown",
   "metadata": {},
   "source": [
    "**Note:** If using TypeScript, you can add typing to prompts created with `.fromMessages` by passing a type parameter like this:"
   ]
  },
  {
   "cell_type": "code",
   "execution_count": null,
   "metadata": {},
   "outputs": [],
   "source": [
    "const chatPrompt = ChatPromptTemplate.fromMessages<{\n",
    "  input_language: string;\n",
    "  output_language: string;\n",
    "  text: string;\n",
    "}>([systemMessagePrompt, humanMessagePrompt]);"
   ]
  },
  {
   "cell_type": "markdown",
   "metadata": {},
   "source": [
    "```{=mdx}\n",
    "  </TabItem>\n",
    "  <TabItem value=\"mustache\" label=\"Mustache\">\n",
    "```"
   ]
  },
  {
   "cell_type": "code",
   "execution_count": null,
   "metadata": {},
   "outputs": [],
   "source": [
    "const template =\n",
    "  \"You are a helpful assistant that translates {{input_language}} to {{output_language}}.\";\n",
    "const systemMessagePrompt = SystemMessagePromptTemplate.fromTemplate(template, { templateFormat: \"mustache\" });\n",
    "const humanTemplate = \"{{text}}\";\n",
    "const humanMessagePrompt =\n",
    "  HumanMessagePromptTemplate.fromTemplate(humanTemplate, { templateFormat: \"mustache\" });"
   ]
  },
  {
   "cell_type": "markdown",
   "metadata": {},
   "source": [
    "If you wanted to construct the `MessagePromptTemplate` more directly, you could create a PromptTemplate externally and then pass it in, e.g.:"
   ]
  },
  {
   "cell_type": "code",
   "execution_count": null,
   "metadata": {},
   "outputs": [],
   "source": [
    "const prompt = new PromptTemplate({\n",
    "  template:\n",
    "    \"You are a helpful assistant that translates {{input_language}} to {{output_language}}.\",\n",
    "  inputVariables: [\"input_language\", \"output_language\"],\n",
    "  templateFormat: \"mustache\"\n",
    "});\n",
    "const systemMessagePrompt2 = new SystemMessagePromptTemplate({\n",
    "  prompt,\n",
    "});"
   ]
  },
  {
   "cell_type": "markdown",
   "metadata": {},
   "source": [
    "**Note:** If using TypeScript, you can add typing to prompts created with `.fromMessages` by passing a type parameter like this:"
   ]
  },
  {
   "cell_type": "code",
   "execution_count": null,
   "metadata": {},
   "outputs": [],
   "source": [
    "const chatPrompt = ChatPromptTemplate.fromMessages<{\n",
    "  input_language: string;\n",
    "  output_language: string;\n",
    "  text: string;\n",
    "}>([systemMessagePrompt, humanMessagePrompt], { templateFormat: \"mustache\" });"
   ]
  },
  {
   "cell_type": "markdown",
   "metadata": {},
   "source": [
    "```{=mdx}\n",
    "  </TabItem>\n",
    "</Tabs>\n",
    "\n",
    "## Multi-modal prompts\n",
    "\n",
    "import MultiModalPromptExample from \"@examples/prompts/multi_modal.ts\";\n",
    "\n",
    "<CodeBlock language=\"typescript\">{MultiModalPromptExample}</CodeBlock>\n",
    "\n",
    ":::tip\n",
    "LangSmith will render your images inside traces!\n",
    "\n",
    "See the LangSmith trace [here](https://smith.langchain.com/public/15f4b4e4-2b2f-476a-952c-b9abcb9ac278/r)\n",
    ":::\n",
    "\n",
    "You can also pass multi-modal prompt templates inline:\n",
    "\n",
    "import MultiModalInlinePromptExample from \"@examples/prompts/multi_modal_inline.ts\";\n",
    "\n",
    "<CodeBlock language=\"typescript\">{MultiModalInlinePromptExample}</CodeBlock>\n",
    "\n",
    ":::tip\n",
    "See the LangSmith trace [here](https://smith.langchain.com/public/66bf8258-fa1c-42a3-9e14-9b3eb5902435/r)\n",
    ":::\n",
    "\n",
    "```"
   ]
  }
 ],
 "metadata": {
  "kernelspec": {
   "display_name": "Deno",
   "language": "typescript",
   "name": "deno"
  },
  "language_info": {
   "file_extension": ".ts",
   "mimetype": "text/x.typescript",
   "name": "typescript",
   "nb_converter": "script",
   "pygments_lexer": "typescript",
   "version": "5.3.3"
  }
 },
 "nbformat": 4,
 "nbformat_minor": 2
}
